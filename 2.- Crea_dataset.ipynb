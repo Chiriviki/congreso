{
  "cells": [
    {
      "cell_type": "markdown",
      "id": "0b6e4fbc-d579-4c4b-998d-bc18c3136309",
      "metadata": {
        "id": "0b6e4fbc-d579-4c4b-998d-bc18c3136309"
      },
      "source": [
        "# 2.- Creación del dataset\n",
        "\n",
        "<a target=\"_blank\" href=\"https://colab.research.google.com/github/Chiriviki/congreso/blob/8772b4a6f99879ca8a1f0538322470367bf4618b/2.-%20Crea_dataset.ipynb\">\n",
        "  <img src=\"https://colab.research.google.com/assets/colab-badge.svg\" alt=\"Open In Colab\"/>\n",
        "</a>\n",
        "\n",
        "Este cuaderno toma los textos extraídos y trata de:\n",
        "- Extraer metadatos y anexarlos a cada intervención.\n",
        "- Limpiar los textos.\n",
        "- Cruzar los nombres de políticos con el partido político al que pertenecen.\n",
        "\n",
        "## Carga corpus\n",
        "\n",
        "En primer lugar carga el corpus."
      ]
    },
    {
      "cell_type": "code",
      "execution_count": null,
      "id": "9838167e-e149-4ab7-966c-26959f3b2587",
      "metadata": {
        "id": "9838167e-e149-4ab7-966c-26959f3b2587"
      },
      "outputs": [],
      "source": [
        "import os\n",
        "import json\n",
        "\n",
        "carpeta = 'dataset/corpus_v1'\n",
        " \n",
        "corpus = []\n",
        "for filename in os.listdir(carpeta):\n",
        "    f = os.path.join(carpeta, filename)\n",
        "    \n",
        "    if os.path.isfile(f):\n",
        "        with open(f, \"r\") as f_r:\n",
        "            f_json = json.load(f_r)\n",
        "            corpus.append(f_json)\n",
        "\n",
        "            "
      ]
    },
    {
      "cell_type": "code",
      "execution_count": null,
      "id": "23c2fefd-9565-4aae-9255-e83fb84c34fd",
      "metadata": {
        "scrolled": true,
        "tags": [],
        "id": "23c2fefd-9565-4aae-9255-e83fb84c34fd",
        "outputId": "3e17e5bc-2a16-43f3-ebed-933b8ef9edd0"
      },
      "outputs": [
        {
          "data": {
            "text/plain": [
              "{'datos': 'DS. Congreso de los Diputados, Pleno y Dip. Perm., núm. 1, de 03/12/2019',\n",
              " 'intervenciones': [{'name1': 'PRESIDENTE DE LA MESA DE EDAD',\n",
              "   'name2': 'Zamarrón Moreno',\n",
              "   'span': [5107, 5165],\n",
              "   'texto': ' Señorías, se abre la sesión.\\nEn virtud de lo dispuesto en el artículo 2 del Reglamento del Congreso de los Diputados, la Mesa de Edad ha quedado constituida por el diputado electo de mayor edad de los presentes, don Agustín Zamarrón\\nMoreno -es decir, yo mismo-, como presidente, y por las dos más jóvenes como secretarias, a saber, doña Marta Rosique i Saltor y doña Lucía Muñoz Dalda, según los datos que constan en la Cámara.\\nSeñorías, el artículo 99 de nuestra Constitución expone el artificioso modo para el nombramiento de presidente de Gobierno, dando inicio a un proceso que culmina en un Gobierno legítimo y pleno en sus atribuciones; al hacerlo determina la\\ngrave responsabilidad de los intervinientes en el proceso, en lo que afecta a la responsabilidad de las señoras y señores diputados y de la Cámara en pleno. Cierto es que responsabilidad, mérito y empeño es distinto para cada actor, mas cualquier\\ncomentario al respecto en punto y hora es enojoso, indebido y a mi voluntad está vedado. Reitero, pues, la responsabilidad de los señores diputados de la legislatura y la del Congreso de los Diputados como asamblea representativa. (Se pone en\\npie).\\nSeñorías, desde la dignidad institucional que circunstancialmente ostento como presidente de la Cámara de los diputados en la Mesa de Edad, con la humildad debida, obligada al político cuya razón de ser y oficio es el servicio a la\\nciudadanía, pido perdón al pueblo español, soberano único, por el incumplimiento en la XIII Legislatura del trascendente mandado constitucional de otorgar Gobierno a la nación. (Hace una reverencia y toma asiento).\\nSeñorías, ahora ya seamos todos bienvenidos a la XIV Legislatura; su ejecutoria de nosotros depende. Hagámosla larga y fructífera.\\nREAL DECRETO DE CONVOCATORIA DE ELECCIONES.'},\n",
              "  {'name1': 'PRESIDENTE DE LA MESA DE EDAD',\n",
              "   'name2': 'Zamarrón Moreno',\n",
              "   'span': [6950, 7008],\n",
              "   'texto': ' De conformidad con lo dispuesto en el artículo 3 del Reglamento, por la señora secretaria de la Mesa de Edad se va a dar lectura al Real Decreto de convocatoria, a la relación de\\nseñoras y señores diputados electos y a la relación de recursos contencioso-electorales interpuestos.\\nLa señora secretaria primera de la Mesa de Edad tiene la palabra.'},\n",
              "  {'name1': 'SECRETARIA DE LA MESA DE EDAD',\n",
              "   'name2': 'Rosique i Saltor',\n",
              "   'span': [7355, 7415],\n",
              "   'texto': ' Artículo 5 del Real Decreto 551/2019, de 24 de septiembre, de disolución del Congreso de los Diputados y del Senado y de convocatoria de elecciones: Celebradas las elecciones\\nconvocadas por este real decreto, las Cámaras resultantes se reunirán en sesiones constitutivas el día 3 de diciembre de 2019 a las diez horas. Dado en Madrid el 24 de septiembre de 2019. Felipe, Rey. La presidenta del Congreso de los Diputados,\\nMeritxell Batet Lamaña.\\nRELACIÓN ALFABÉTICA DE SEÑORAS Y SEÑORES DIPUTADOS ELECTOS.'},\n",
              "  {'name1': 'PRESIDENTE DE LA MESA DE EDAD',\n",
              "   'name2': 'Zamarrón Moreno',\n",
              "   'span': [7920, 7978],\n",
              "   'texto': ' Las señoras secretarias de la Mesa procederán a dar lectura de la relación alfabética de señoras y señores diputados.'},\n",
              "  {'name1': 'SECRETARIA DE LA MESA DE EDAD',\n",
              "   'name2': 'Rosique i Saltor',\n",
              "   'span': [8096, 8156],\n",
              "   'texto': ' Junqueras i Vies, Oriol; Forn Chiariello, Joaquim; Turull i Negre, Jordi; Sànchez Picanyol, Jordi... (Protestas.-El señor Garcés Sanagustín: ¿¡Qué está pasando!?-Aplausos de\\nvarias señoras y señores diputados).'},\n",
              "  {'name1': 'PRESIDENTE DE LA MESA DE EDAD',\n",
              "   'name2': 'Zamarrón Moreno',\n",
              "   'span': [8367, 8425],\n",
              "   'texto': ' Señora secretaria, la llamo al orden, por favor.\\nPor las señoras secretarias de la Mesa de Edad, señoras Rosique i Saltor, y Muñoz Dalda, se procede a dar lectura de la lista de las señoras y señores diputados electos.\\nÁBALOS MECO, José Luis\\nABASCAL CONDE, Santiago\\nACEVES GALINDO, José Luis\\nAGIRRETXEA URRESTI, Joseba Andoni\\nAIZCORBE TORRA, Juan José\\nAIZPURUA ARZALLUS, Mertxe\\nALCARAZ MARTOS, Francisco José\\nALFONSO CENDÓN, Javier\\nALMODÓBAR BARCELÓ, Agustín\\nALONSO PÉREZ, José Ángel\\nALONSO SUÁREZ, María Olga\\nALONSO-CUEVILLAS I SAYROL, Jaume\\nÁLVAREZ DE TOLEDO PERALTA-RAMOS, Cayetana\\nÁLVAREZ FANJUL, Beatriz\\nANDRÉS AÑÓN, Carmen\\nANDRÉS BAREA, Josefa\\nANGULO ROMERO, María Teresa\\nANTÓN CACHO, Javier\\nARAGONÉS MENDIGUCHÍA, Carlos\\nARANDA VARGAS, Francisco\\nARANGÜENA FERNÁNDEZ, Pablo\\nARRIMADAS GARCÍA, Inés\\nASARTA CUEVAS, Alberto\\nASENS LLODRÀ, Jaume\\nBAL FRANCÉS, Edmundo\\nBALDOVÍ RODA, Joan\\nBARANDIARAN BENITO, Íñigo\\nBAS CORUGEIRA, Javier\\nBASSA COLL, Montserrat\\nBATET LAMAÑA, Meritxell\\nBEL ACCENSI, Ferran\\nBELARRA URTEAGA, Ione\\nBELTRÁN VILLALBA, Ana María\\nBERJA VEGA, Laura\\nBERMÚDEZ DE CASTRO FERNÁNDEZ, José Antonio\\nBETORET COLL, Vicente\\nBLANQUER ALCARAZ, Patricia\\nBOADELLA ESTEVE, Genís\\nBORRÀS CASTANYER, Laura\\nBORRÁS PABÓN, Mireia\\nBORREGO CORTÉS, Isabel María\\nBOTELLA GÓMEZ, Ana María\\nBOTRAN PAHISSA, Albert\\nBRAVO BARCO, Eva\\nBUENO CAMPANARIO, Eva Patricia\\nCABALLERO GUTIÉRREZ, Helena\\nCABEZÓN CASAS, Tomás\\nCALLEJAS CANO, Juan Antonio\\nCALVO LISTE, Pablo Juan\\nCALVO POYATO, Carmen\\nCAMBRONERO PIQUERAS, Pablo\\nCAMPO MORENO, Juan Carlos\\nCANALES DUQUE, Mariana de Gracia\\nCANCELA RODRÍGUEZ, Pilar\\nCANTERA DE CASTRO, Zaida\\nCAÑADELL SALVIA, Concep\\nCAÑIZARES PACHECO, Inés María\\nCAPDEVILLA I ESTEVE, Joan\\nCARAZO HERMOSO, Eduardo\\nCARCEDO ROCES, María Luisa\\nCARRILLO DE LOS REYES, Beatriz Micaela\\nCARVALHO DANTAS, María\\nCASADO BLANCO, Pablo\\nCASARES HONTAÑÓN, Pedro\\nCASERO ÁVILA, Alberto\\nCASTELLÓN RUBIO, Miguel Ángel\\nCASTILLO LÓPEZ, Elena\\nCELAÁ DIÉGUEZ, Isabel\\nCERDÁN LEÓN, Santos\\nCERQUEIRO GONZÁLEZ, Javier\\nCHAMORRO DELMO, Ricardo\\nCLAVELL LÓPEZ, Óscar\\nCONTRERAS PELÁEZ, Francisco José\\nCORREDOR SIERRA, María Beatriz\\nCORTÉS CARBALLO, Mario\\nCORTÉS GÓMEZ, Ismael\\nCRESPÍN RUBIO, Rafaela\\nCRUZ-GUZMÁN GARCÍA, María Soledad\\nCUATRECASAS ASUA, Juan\\nDE LAS HERAS FERNÁNDEZ, Patricia\\nDE LUNA TOBARRA, Llanos\\nDE MEER MÉNDEZ, Rocío\\nDE QUINTO ROMERO, Marcos\\nDEL VALLE RODRÍGUEZ, Emilio Jesús\\nDELGADO ARCE, Celso Luis\\nDELGADO GARCÍA, Dolores\\nDÍAZ GÓMEZ, Guillermo\\nDÍAZ PÉREZ, Yolanda\\nDIOUF DIOH, Luc Andre\\nDUQUE DUQUE, Pedro\\nDURÁN PERALTA, José Carlos\\nECHÁNIZ SALGADO, José Ignacio\\nECHENIQUE ROBBA, Pablo\\nELIZO SERRANO, María Gloria\\nELORZA GONZÁLEZ, Odón\\nERITJA CIURÓ, Francesc Xavier\\nERREJÓN GALVÁN, Íñigo\\nESPAÑA REINA, Carolina\\nESPEJO-SAAVEDRA CONESA, José María\\nESPINOSA DE LOS MONTEROS DE SIMÓN, Iván\\nESTEBAN BRAVO, Aitor\\nESTEBAN CALONJE, Cristina Alicia\\nFAGÚNDEZ CAMPO, Antidio\\nFANECA LÓPEZ, María Luisa\\nFERNÁNDEZ BENÉITEZ, Andrea\\nFERNÁNDEZ CASERO, Ana Belén\\nFERNÁNDEZ CASTAÑÓN, Sofía\\nFERNÁNDEZ HERNÁNDEZ, Pedro\\nFERNÁNDEZ RÍOS, Tomás\\nFERNÁNDEZ-LOMANA GUTIÉRREZ, Rafael\\nFERNÁNDEZ-ROCA SUÁREZ, Carlos Hugo\\nFERRER TESORO, Sonia\\nFIGAREDO ÁLVAREZ-SALA, José María\\nFRANCO CARMONA, Isabel\\nFRANCO PARDO, José Manuel\\nGAGO BUGARÍN, Diego\\nGAMARRA RUIZ-CLAVIJO, Concepción\\nGAMAZO MICÓ, Óscar\\nGARCÉS SANAGUSTÍN, Mario\\nGARCÍA ADANERO, Carlos\\nGARCÍA CHAVARRÍA, María Montserrat\\nGARCÍA DÍEZ, Joaquín María\\nGARCÍA EGEA, Teodoro\\nGARCÍA GÓMEZ, Valentín\\nGARCÍA LÓPEZ, Maribel\\nGARCÍA MORÍS, Roberto\\nGARCÍA PUIG, María del Mar\\nGARCÍA RODRÍGUEZ, Alicia\\nGARCÍA TEJERINA, Isabel\\nGARCÍA-PELAYO JURADO, María José\\nGARRIDO GUTIÉRREZ, Pilar\\nGARRIGA VAZ DE CONCICAO, Ignacio\\nGARZÓN ESPINOSA, Alberto\\nGÁZQUEZ COLLADO, Paloma\\nGESTOSO DE MIGUEL, Luis\\nGIL LÁZARO, Ignacio\\nGIMÉNEZ GIMÉNEZ, Sara\\nGÓMEZ HERNÁNDEZ, Héctor\\nGÓMEZ-REINO VARELA, Antonio\\nGONZÁLEZ CABALLERO, Miguel Ángel\\nGONZÁLEZ COELLO DE PORTUGAL, Víctor\\nGONZÁLEZ GUINDA, María del Carmen\\nGONZÁLEZ PÉREZ, Ariagona\\nGONZÁLEZ RAMOS, Manuel Gabriel\\nGONZÁLEZ TEROL, Antonio\\nGONZÁLEZ VÁZQUEZ, Marta\\nGOROSPE ELEZCANO, Josune\\nGRANDE-MARLASKA GÓMEZ, Fernando\\nGRANOLLERS CUNILLERA, Inés\\nGUAITA ESTERUELAS, Sandra\\nGUIJARRO CEBALLOS, María\\nGUIJARRO GARCÍA, Txema\\nGUINART MORENO, Lídia\\nGUIRAO CABRERA, José\\nGUITARTE GIMENO, Tomás\\nGUTIÉRREZ DÍAZ DE OTAZU, Fernando Adolfo\\nGUTIÉRREZ PRIETO, Sergio\\nHERNANZ COSTA, Sofía\\nHERRERO BONO, José Alberto\\nHISPÁN IGLESIAS DE USSEL, Pablo\\nHONRUBIA HURTADO, Pedro Antonio\\nHOYO JULIÁ, Belén\\nIGLESIAS TURRIÓN, Pablo\\nILLAMOLA DAUSÀ, Mariona\\nILLUECA BALLESTER, Héctor\\nIÑARRITU GARCÍA, Jon\\nIZQUIERDO RONCERO, José Javier\\nJEREZ JUAN, Miguel Ángel\\nJIMÉNEZ LINUESA, Beatriz\\nJIMÉNEZ REVUELTA, Rodrigo\\nJIMÉNEZ-BECERRIL BARRIO, María Teresa\\nJOVER DÍAZ, Antonia\\nLAMUÀ ESTAÑOl, Marc\\nLASTRA FERNÁNDEZ, Adriana\\nLEDESMA MARTÍN, Sebastián Jesús\\nLEGARDA URIARTE, Mikel\\nLIMA CID, Fuensanta\\nLÓPEZ ÁLVAREZ, Patxi\\nLÓPEZ ÁLVAREZ, María Teresa\\nLÓPEZ CANO, Ignacio\\nLÓPEZ DE URALDE GARMENDIA, Juan Antonio\\nLÓPEZ DOMÍNGUEZ, Laura\\nLÓPEZ MARAVER, Ángel\\nLÓPEZ ZAMORA, Cristina\\nLORITE LORITE, Andrés\\nMAESTRO MOLINER, Roser\\nMANSO OLIVAR, Rubén Silvano\\nMÁÑEZ RODRÍGUEZ, Elena\\nMARCOS DOMÍNGUEZ, Pilar\\nMARCOS ORTEGA, Milagros\\nMARGALL SASTRE, Joan\\nMARÍ KLOSE, Pau\\nMARISCAL ANAYA, Guillermo\\nMARISCAL ZABALA, Manuel\\nMAROTO ILLERA, Reyes\\nMÁRQUEZ GUERRERO, María\\nMARRA DOMÍNGUEZ, María Ángeles\\nMARRODÁN FUNES, María\\nMARTÍN LLAGUNO, Marta\\nMARTÍNEZ FERRO, María Valentina\\nMARTÍNEZ GRANADOS, María Carmen\\nMARTÍNEZ OBLANCA, Isidro Manuel\\nMARTÍNEZ SEIJO, María Luz\\nMATARÍ SÁEZ, Juan José\\nMATEU ISTÚRIZ, Jaime Miguel\\nMATUTE GARCÍA DE JALÓN, Oskar\\nMAYORAL PERALES, Rafael\\nMAZÓN RAMOS, José María\\nMEIJÓN COUSELO, Guillermo Antonio\\nMENA ARCA, Joan\\nMÉNDEZ MONASTERIO, Lourdes\\nMERINO MARTÍNEZ, Javier\\nMESTRE BAREA, Manuel\\nMÍNGUEZ GARCÍA, Montse\\nMIQUEL I VALENTÍ, Sergi\\nMONEO DÍEZ, María Sandra\\nMONTERO CUADRADO, María Jesús\\nMONTERO GIL, Irene María\\nMONTESINOS AGUAYO, Pablo\\nMONTESINOS DE MIGUEL, Macarena\\nMONTILLA MARTOS, José Antonio\\nMORALEJA GÓMEZ, Tristana María\\nMORO ALMARAZ, María Jesús\\nMOVELLÁN LOMBILLA, Diego\\nMUÑOZ DALDA, Lucía\\nMUÑOZ VIDAL, María\\nNARVÁEZ BANDERA, María Dolores\\nNASARRE OLIVA, Begoña\\nNAVARRO LACOBA, Carmen\\nNAVARRO LÓPEZ, Pedro\\nNEVADO DEL CAMPO, María Magdalena\\nNOGUERAS I CAMERO, Míriam\\nNUET PUJALS, Joan Josep\\nOLANO VELA, Jaime Eduardo de\\nOLONA CHOCLÁN, Macarena\\nORAMAS GONZÁLEZ-MORO, Ana María\\nORTEGA OTERO, Marina\\nORTEGA SMITH-MOLINA, Francisco Javier\\nORTIZ GALVÁN, José\\nPADILLA RUIZ, Esther\\nPANIAGUA NÚÑEZ, Miguel Ángel\\nPASTOR JULIÁN, Ana María\\nPEDREÑO MOLINA, Juan Luis\\nPEÑA CAMARERO, Esther\\nPEREA I CONILLAS, María Mercè\\nPÉREZ ABELLÁS, Adolfo\\nPÉREZ DÍAZ, María Auxiliadora\\nPÍRIZ MAYA, Víctor Valentín\\nPISARELLO PRADOS, Gerardo\\nPLANAS PUCHADES, Luis\\nPOLO LLAVATA, Francisco\\nPONS SAMPIETRO, Pere Joan\\nPOSTIGO QUINTANA, Jesús\\nPOZUETA FERNÁNDEZ, Isabel\\nPRIETO NIETO, Ana\\nPROHENS RIGO, Margarita\\nPUJOL I FARRÉ, Norma\\nQUEVEDO ITURBE, Pedro\\nRAMALLO VÁZQUEZ, María Pilar\\nRAMÍREZ CARNER, Arnau\\nRAMÍREZ DEL RÍO, José\\nRAMÓN UTRABO, Elvira\\nRAMOS ESTEBAN, César Joaquín\\nRAMOS RODRÍGUEZ, José Luis\\nRAYA RODRÍGUEZ, María Tamara\\nREDONDO CALVILLO, María de la O\\nREGO CANDAMIL, Néstor\\nRENAU MARTÍNEZ, Germán\\nREQUEJO NOVOA, Pedro Jesús\\nREQUENA RUIZ, Juan Diego\\nRIBERA RODRÍGUEZ, Teresa\\nRIOLOBOS REGADERA, Carmen\\nROBLES FERNÁNDEZ, Margarita\\nROBLES LÓPEZ, Joaquín\\nRODRÍGUEZ ALMEIDA, Andrés Alberto\\nRODRÍGUEZ GÓMEZ, María del Pilar\\nRODRÍGUEZ GÓMEZ DE CELIS, Alfonso\\nRODRÍGUEZ HERRER, María Elvira\\nRODRÍGUEZ RODRÍGUEZ, Alberto\\nRODRÍGUEZ SALAS, José Antonio\\nROJAS GARCÍA, Carlos\\nROMERO HERNÁNDEZ, Carmelo\\nROMERO SÁNCHEZ, Rosa María\\nROMERO VILCHES, María de los Reyes\\nROS MARTÍNEZ, Susana\\nROSELL AGUILAR, María Victoria\\nROSETY FERNÁNDEZ DE CASTRO, Agustín\\nROSIQUE I SALTOR, Marta\\nRUEDA PERELLÓ, Patricia\\nRUFIÁN ROMERO, Gabriel\\nRUIZ DE PINEDO UNDIANO, Iñaki\\nRUIZ I CARBONELL, Joan\\nRUIZ NAVARRO, Eduardo Luis\\nRUIZ SOLÁS, María de la Cabeza\\nSAAVEDRA MUÑOZ, Marisa\\nSABANÉS NADAL, Inés\\nSÁEZ ALONSO-MUÑUMER, Pablo\\nSAGASTIZABAL UNZETABARRENETXEA, Idoia\\nSAHUQUILLO GARCÍA, Luis Carlos\\nSALAZAR RODRÍGUEZ, Francisco José\\nSALVÁ VERD, Antonio\\nSALVADOR I DUCH, Jordi\\nSÁNCHEZ DEL REAL, Víctor Manuel\\nSÁNCHEZ ESCOBAR, Mariano\\nSÁNCHEZ GARCÍA, José María\\nSÁNCHEZ JÓDAR, Marisol\\nSÁNCHEZ PÉREZ, César\\nSÁNCHEZ PÉREZ-CASTEJÓN, Pedro\\nSÁNCHEZ SERNA, Javier\\nSANCHO GUARDIA, Alfredo\\nSANCHO ÍÑIGUEZ, Herminio Rufino\\nSANTAMARÍA RUIZ, Luis\\nSANTIAGO ROMERO, Enrique Fernando\\nSARRIÀ MORELL, Vicent Manuel\\nSAURA GARCÍA, Pedro\\nSAYAS LÓPEZ, Sergio\\nSERRADA PARIENTE, David\\nSERRANO MARTÍNEZ, Juan Francisco\\nSEVA RUIZ, Yolanda\\nSICILIA ALFÉREZ, Felipe Jesús\\nSIMANCAS SIMANCAS, Rafael\\nSOLER MUR, Alejandro\\nSOTO BURILLO, Juan Luis\\nSTEEGMANN OLMEDILLAS, Juan Luis\\nSUÁREZ ILLANA, Adolfo\\nSUÁREZ LAMATA, Eloy\\nSUMELZO JORDÁN, Susana\\nTELECHEA I LOZANO, Carolina\\nTIRADO OCHOA, Vicente\\nTOSCANO DE BALBÍN, Carla\\nTRÍAS GIL, Georgina\\nURIARTE BENGOECHEA, Edurne\\nURIARTE TORREALDAY, Roberto\\nUTRILLA CANO, Julio\\nVALERIO CORDERO, Magdalena\\nVALLUGERA BALAÑÀ, Pilar\\nVÁZQUEZ BLANCO, Ana Belén\\nVEGA ARIAS, Rubén Darío\\nVEHÍ CANTENYS, Mireia\\nVELARDE GÓMEZ, Martina\\nVELASCO MORILLO, Elvira\\nVERA RUÍZ-HERRERA, Noelia\\nVICENTE VIONDI, Daniel\\nVIDAL SÁEZ, Aina\\nVILCHES RUIZ, María Luisa\\nVILLAGRASA QUERO, Noemí\\nZAMARRÓN MORENO, Agustín\\nZAMBRANO GARCÍA-RAEZ, Carlos José\\nZARAGOZA ALONSO, José\\nZURITA EXPÓSITO, Ana María'},\n",
              "  {'name1': 'PRESIDENTE DE LA MESA DE EDAD',\n",
              "   'name2': 'Zamarrón Moreno',\n",
              "   'span': [17657, 17715],\n",
              "   'texto': ' Señorías, con objeto de adecuada explicitación de los hechos y para su toma en constancia, manifiesto que el motivo de llamar al orden a la diputada doña Marta Rosique i Saltor tiene\\nsu razón en que los nombres pronunciados previos al del diputado Ábalos no corresponden a diputados electos. Muchas gracias. (Aplausos).\\nSeñorías, por favor, olvidémonos de este tiempo de nubes pasajeras. ¿Hay alguna señora o señor diputado que no haya sido nombrado? (Pausa). No.\\nRECURSOS CONTENCIOSO-ELECTORALES INTERPUESTOS.'},\n",
              "  {'name1': 'PRESIDENTE DE LA MESA DE EDAD',\n",
              "   'name2': 'Zamarrón Moreno',\n",
              "   'span': [18226, 18284],\n",
              "   'texto': ' La señora secretaria primera de la Mesa de Edad, tiene la palabra.'},\n",
              "  {'name1': 'SECRETARIA DE LA MESA DE EDAD',\n",
              "   'name2': 'Rosique i Saltor',\n",
              "   'span': [18351, 18411],\n",
              "   'texto': ' Relación de recursos contencioso-electorales. El señor presidente de la Junta Electoral Central, mediante oficio de 27 de noviembre de 2019, notifica que no se ha presentado\\nningún recurso contencioso-electoral contra el acto de proclamación de candidatos electos realizado por las correspondientes juntas electorales provinciales en relación con las elecciones al Congreso de los Diputados y al Senado, convocadas por Real\\nDecreto 551/2019, de 24 de septiembre, celebradas el 10 de noviembre de 2019.\\nELECCIÓN DE LA MESA DEL CONGRESO DE LOS DIPUTADOS:\\n- ELECCIÓN DEL PRESIDENTE.'},\n",
              "  {'name1': 'PRESIDENTE DE LA MESA DE EDAD',\n",
              "   'name2': 'Zamarrón Moreno',\n",
              "   'span': [18991, 19049],\n",
              "   'texto': ' Señorías, se va a proceder ahora a la elección de la Mesa del Congreso de los Diputados, según el procedimiento previsto en el artículo 37 del Reglamento. En primer lugar, se\\nelegirá al presidente de la Cámara. La votación tendrá carácter secreto y se realizará por papeletas. Cada diputado escribirá solo un nombre en la papeleta. Resultará elegido el que obtenga el voto de la mayoría absoluta de los miembros de la\\nCámara. Si ninguno obtuviera en la primera votación dicha mayoría se repetirá la elección entre los que hayan alcanzado las dos mayores votaciones y resultará elegido el que obtenga más votos.\\nPor la señora secretaria de la Mesa de Edad se procederá al llamamiento por orden alfabético de las señoras y señores diputados para que depositen la papeleta en la urna correspondiente. Los miembros de la Mesa votarán al final.\\nComienza la votación.\\nPor las secretarias de la Mesa de Edad, señoras Rosique i Saltor y Muñoz Dalda, se procede al llamamiento de las señoras y los señores diputados, quienes van depositando sus papeletas en la urna.'},\n",
              "  {'name1': 'PRESIDENTE DE LA MESA DE EDAD',\n",
              "   'name2': 'Zamarrón Moreno',\n",
              "   'span': [20107, 20165],\n",
              "   'texto': ' Un segundo, señorías, por favor. (La señora Lastra Fernández se ha hecho daño en un tobillo al bajar las escaleras).\\nDoña Adriana Lastra, no traiga usted el voto. Si va a permanecer en la sala, hágalo sentada e iremos a recogérselo. Si no, salga para que la atiendan y esperaremos hasta el final para que nos lo dé.\\nPor las secretarias de la Mesa de Edad, señoras Rosique i Saltor y Muñoz Dalda, se continúa con el llamamiento de las señoras y los señores diputados, quienes van depositando sus papeletas en la urna.'},\n",
              "  {'name1': 'PRESIDENTE DE LA MESA DE EDAD',\n",
              "   'name2': 'Zamarrón Moreno',\n",
              "   'span': [20682, 20740],\n",
              "   'texto': ' Muchísimas gracias. Han sido ustedes ejemplares. Hemos mejorado muchísimo.\\nAhora vamos a recoger los votos de los heridos -yo también estoy un poco mancado del remo derecho-, así que esto nos incrementará los tiempos muertos; digamos demediados, no muertos. (Pausa).\\nTerminada la votación, dijo'},\n",
              "  {'name1': 'PRESIDENTE DE LA MESA DE EDAD',\n",
              "   'name2': 'Zamarrón Moreno',\n",
              "   'span': [21035, 21093],\n",
              "   'texto': ' Señorías, ¿hay alguna señora diputada o algún señor diputado que no haya sido llamado para votar? (Denegaciones).\\nRealizado el escrutinio, dijo'},\n",
              "  {'name1': 'PRESIDENTE DE LA MESA DE EDAD',\n",
              "   'name2': 'Zamarrón Moreno',\n",
              "   'span': [21237, 21295],\n",
              "   'texto': ' En consecuencia, tras realizar el escrutinio de los votos emitidos, el resultado es el siguiente: votos emitidos, 349; 167, a favor de doña Meritxell Batet Lamaña; 91, a favor de\\ndoña Ana María Pastor Julián; 52, a favor de doña Macarena Olona Choclán; 11 votos en blanco, y 28 votos nulos. Al no haberse obtenido el voto de la mayoría absoluta de los miembros de la Cámara, 176, y de acuerdo con lo dispuesto en el inciso\\nfinal del artículo 37.1 del Reglamento, se ha de proceder a una nueva votación entre los que hayan alcanzado las dos mayores votaciones, resultando elegido el que obtenga más votos. En consecuencia, esta nueva votación se produce entre doña\\nMeritxell Batet Lamaña y doña Ana María Pastor Julián, que son las diputadas que han obtenido mayor número de votos en la votación anterior. (Rumores). Resultará elegida presidenta del Congreso de los Diputados la que obtenga más votos. Si se\\nprodujera empate, se celebrarán sucesivas votaciones hasta que el empate quede dirimido. (Rumores). ¡Por favor, señorías!, que ya ven que me trafullo. Es la edad y el ronroneo. (Risas).\\nPor las señoras secretarias de la Mesa de Edad se procederá al llamamiento por orden alfabético de las señoras y los señores diputados para que depositen la papeleta en la urna correspondiente. Los miembros de la Mesa de Edad votarán al\\nfinal.\\nComienza, pues, la votación.\\nPor las secretarias de la Mesa de Edad, señoras Rosique i Saltor y Muñoz Dalda, se procede al llamamiento de las señoras y los señores diputados, quienes van depositando sus papeletas en la urna.\\nTerminada la votación, dijo'},\n",
              "  {'name1': 'PRESIDENTE DE LA MESA DE EDAD',\n",
              "   'name2': 'Zamarrón Moreno',\n",
              "   'span': [22885, 22943],\n",
              "   'texto': ' ¿Se ha omitido el nombre de algún diputado para la votación?'},\n",
              "  {'name1': 'VEHÍ CANTENYS',\n",
              "   'name2': None,\n",
              "   'span': [23004, 23029],\n",
              "   'texto': ' Sí. No me han llamado.'},\n",
              "  {'name1': 'PRESIDENTE DE LA MESA DE EDAD',\n",
              "   'name2': 'Zamarrón Moreno',\n",
              "   'span': [23052, 23110],\n",
              "   'texto': ' No se la ha llamado. Pero ¿ha votado o no ha votado?'},\n",
              "  {'name1': 'VEHÍ CANTENYS',\n",
              "   'name2': None,\n",
              "   'span': [23163, 23188],\n",
              "   'texto': ' No.'},\n",
              "  {'name1': 'PRESIDENTE DE LA MESA DE EDAD',\n",
              "   'name2': 'Zamarrón Moreno',\n",
              "   'span': [23192, 23250],\n",
              "   'texto': ' No ha votado. Por favor, señoría, acérquese a identificarse para proceder a recoger su voto. (Así lo hace la señora Vehí Cantenys). Perdónenos, porque no sabe más el demonio por\\nviejo; sabe menos. (Risas). ¿A alguien más hemos dejado sin nombrar? (Denegación). Pónganlo en mi debe; yo ya me ocuparé de poner algo en mi haber.\\nProcedemos al escrutinio.\\nRealizado el escrutinio, dijo'},\n",
              "  {'name1': 'PRESIDENTE DE LA MESA DE EDAD',\n",
              "   'name2': 'Zamarrón Moreno',\n",
              "   'span': [23632, 23690],\n",
              "   'texto': ' Señorías, el resultado de la votación ha sido el siguiente: votos emitidos, 346; 166, a favor de doña Meritxell Batet Lamaña; 140, a favor de doña Ana María Pastor Julián; 11\\nvotos en blanco, 29 votos nulos.\\nAl haber obtenido la mayoría de votos de los miembros de la Cámara, queda en consecuencia proclamada presidenta del Congreso de los Diputados doña Meritxell Batet Lamaña. (Prolongados aplausos de las señoras y los señores diputados, algunos\\npuestos en pie).\\n- ELECCIÓN DE LOS VICEPRESIDENTES.'},\n",
              "  {'name1': 'PRESIDENTE DE LA MESA DE EDAD',\n",
              "   'name2': 'Zamarrón Moreno',\n",
              "   'span': [24191, 24249],\n",
              "   'texto': ' Se elegirán a continuación los cuatro vicepresidentes. Cada diputado escribirá solo un nombre en la papeleta para la elección de vicepresidentes. Resultarán elegidos por orden\\nsucesivo como vicepresidentes los cuatro que obtengan mayor número de votos. Si en alguna votación se produjera empate, se celebrarán sucesivas votaciones entre los candidatos igualados en votos hasta que el empate quede dirimido. (Rumores).\\nSeñorías, esto es muy pesado pero es mi placer; guarden silencio.\\nPor las señoras secretarias de la Mesa de Edad, se procederá al llamamiento por orden alfabético de las señoras y los señores diputados para que depositen la papeleta en la urna correspondiente. Los miembros de la Mesa de Edad votarán al\\nfinal.\\nSeñorías, comienza la votación.\\nPor las secretarias de la Mesa de Edad, señoras Rosique i Saltor y Muñoz Dalda, se procede al llamamiento de las señoras y los señores diputados, quienes van depositando sus papeletas en la urna.\\nTerminada la votación, dijo'},\n",
              "  {'name1': 'PRESIDENTE DE LA MESA DE EDAD',\n",
              "   'name2': 'Zamarrón Moreno',\n",
              "   'span': [25234, 25292],\n",
              "   'texto': ' Señorías, silencio, por favor.\\n¿Alguna señora o señor diputado no ha sido nombrado para el voto? (Pausa). Al parecer, no; hemos mejorado. Vamos a proceder a recontarlos.\\nRealizado el escrutinio, dijo'},\n",
              "  {'name1': 'PRESIDENTE DE LA MESA DE EDAD',\n",
              "   'name2': 'Zamarrón Moreno',\n",
              "   'span': [25492, 25550],\n",
              "   'texto': ' Señorías, el resultado de la votación para la elección de los cuatro vicepresidentes ha sido el siguiente: votos emitidos, 348; 108, a favor de don Alfonso Rodríguez Gómez de\\nCelis; 101, a favor de doña Ana María Pastor Julián; 77, a favor de doña María Gloria Elizo Serrano; 52, a favor de don Ignacio Gil Lázaro; 1 voto en blanco y 9 votos nulos.\\nQuedan, en consecuencia, proclamados: vicepresidente primero, don Alfonso Rodríguez Gómez de Celis (aplausos de las señores y los señores diputados, algunos puestos en pie); vicepresidenta segunda, doña Ana María Pastor Julián (aplausos de\\nlas señoras y los señores diputados, algunos puestos en pie); vicepresidenta tercera, doña María Gloria Elizo Serrano (aplausos de las señores y los señores diputados, algunos puestos en pie); vicepresidente cuarto, don Ignacio Gil Lázaro\\n(aplausos de las señoras y los señores diputados, algunos puestos en pie).\\n- ELECCIÓN DE LOS SECRETARIOS.'},\n",
              "  {'name1': 'PRESIDENTE DE LA MESA DE EDAD',\n",
              "   'name2': 'Zamarrón Moreno',\n",
              "   'span': [26484, 26542],\n",
              "   'texto': ' Señorías, se elegirán a continuación los cuatro secretarios. Cada diputado escribirá solo un nombre en la papeleta para la elección de secretarios. Resultarán elegidos por orden\\nsucesivo como secretarios los cuatro que obtengan mayor número de votos. Si en alguna votación se produjera empate, se celebrarán sucesivas votaciones entre los candidatos igualados en votos hasta que el empate quede dirimido. (Rumores).\\n¡Señorías, por favor...! Es el único placer que tengo: hacer estas lecturas.\\nPor las señoras secretarias de la Mesa de Edad se procederá al llamamiento por orden alfabético de las señoras y los señores diputados para que depositen la papeleta en la urna correspondiente. Los miembros de la Mesa de Edad votarán al\\nfinal.\\nComienza la votación.\\nPor las secretarias de la Mesa de Edad, señoras Rosique i Saltor y Muñoz Dalda, se procede al llamamiento de las señoras y los señores diputados, quienes van depositando sus papeletas en la urna.\\nTerminada la votación y realizado el escrutinio, dijo'},\n",
              "  {'name1': 'PRESIDENTE DE LA MESA DE EDAD',\n",
              "   'name2': 'Zamarrón Moreno',\n",
              "   'span': [27551, 27609],\n",
              "   'texto': ' Señorías, hago voto a su paciencia y a la propia.\\nEl resultado de la votación para la elección de los cuatro secretarios ha sido el siguiente: votos emitidos, 348; 67, a favor de doña Sofía Hernanz Costa; 67, a favor de don Gerardo Pisarello Prados; 60, a favor de don Javier Sánchez\\nSerna; 58, a favor de don Adolfo Suárez Illana; 52, a favor de don José María Figaredo Álvarez-Sala; 43, a favor de don José María Espejo-Saavedra Conesa; 1 voto en blanco y cero votos nulos.\\nEn consecuencia, tenemos que proceder a una nueva elección para dirimir los puestos de doña Sofía Hernanz y don Gerardo Pisarello en orden a la ordinalidad -perdón por la redundancia- de los secretarios. (Rumores). Muestren ustedes y\\nmuestre mi espalda la mayor resignación. Así son las cosas y a hacerlo como manda el artículo 37.3 nos debemos. Cuanto antes lo hagamos antes terminamos. Señorías, paciencia y barajar. Procederemos de nuevo a la votación. Señorías, pueden votar\\nlo que quieran, pero serán votos nulos aquellos que no correspondan a doña Sofía Hernanz Costa o a don Gerardo Pisarello Prados. La intención es simplemente saber quién será el primero y quién será el segundo, pero cuestiones de orden son\\nnecesarias para el orden.\\nSe me hace una propuesta que creo muy razonable, que vendrá bien para mis huesos y para los suyos, y es que hagamos un pequeño recreo de cinco minutos. Es pequeño, pero servirá para desentumecernos. Entonces, cinco minutos de reposo.\\nSeñorías, aprovechemos bien estos cinco minutos, son escasos; disfrutémoslos; estamos en muy buena compañía. (Pausa).\\nSeñorías, por favor, han pasado ya los cinco minutos que nos hemos concedido.\\nTengo estos ojos hechos a las penas / y a las cavilaciones estas sienes: / pena que vas, cavilación que vienes / como el mar de la playa a las arenas. Seguiremos amarrados a la dura galera turquesca -que presentó Góngora- en estos duros\\nbancos, pero solo un poquito más. Señorías, vamos a dar inicio a esta votación extraordinaria para dirimir el puesto de los secretarios. Muchas gracias. Señoras secretarias, a la brega.\\nPor las secretarias de la Mesa de Edad, señoras Rosique i Saltor, y Muñoz Dalda, se procede al llamamiento de las señoras y los señores diputados, quienes van depositando sus papeletas en la urna.\\nTerminada la votación, dijo'},\n",
              "  {'name1': 'PRESIDENTE DE LA MESA DE EDAD',\n",
              "   'name2': 'Zamarrón Moreno',\n",
              "   'span': [29907, 29965],\n",
              "   'texto': ' Como estamos cansados, pasan algunas cosas, y ruego paciencia. Vuelvo a preguntar: ¿Algún diputado se ha quedado sin votar? (El señor Zaragoza Alonso levanta la mano). Que se\\nacerque hacia nosotros, que no le vamos a hacer nada. (Risas.-Pausa).\\nRealizado el escrutinio, dijo'},\n",
              "  {'name1': 'PRESIDENTE DE LA MESA DE EDAD',\n",
              "   'name2': 'Zamarrón Moreno',\n",
              "   'span': [30240, 30298],\n",
              "   'texto': ' Señorías, prestos al término de nuestra actuación, la Mesa de Edad quiere manifestarles su agradecimiento por la diligencia, el orden y su capacidad de disimular mis defectos y,\\nsobre todo, por su buen humor, que nos ha sido preciso. Gracias. Ahora terminaremos enseguida, esta parte. (Aplausos.-Pausa).\\nSeñorías, el resultado de la votación para dirimir el empate entre los dos secretarios ha sido el siguiente: votos emitidos, 297; 91, a favor de don Gerardo Pisarello Prados; 87, a favor de doña Sofía Hernanz Costa. En consecuencia,\\nquedan proclamados secretario primero, don Gerardo Pisarello Prados (aplausos de las señoras y los señores diputados, algunos puestos en pie); secretaria segunda, doña Sofía Hernanz Costa (aplausos de las señoras y los señores diputados, algunos\\npuestos en pie); secretario tercero, don Javier Sánchez Serna (aplausos de las señoras y los señores diputados, algunos puestos en pie), y secretario cuarto, don Adolfo Suárez Illana (aplausos de las señoras y los señores diputados, algunos puestos\\nen pie.-Rumores). Silencio, por favor.\\nPor tanto, ruego a la señora presidenta y a los señores vicepresidentes y secretarios elegidos en este acto que ocupen sus puestos en la Mesa del Congreso de los Diputados.\\nMuchísimas gracias y enhorabuena a los elegidos y a los electores. (Así lo hacen los nuevos miembros de la Mesa.-Aplausos).\\nJURAMENTO O PROMESA DE ACATAMIENTO DE LA CONSTITUCIÓN.'},\n",
              "  {'name1': 'PRESIDENTA DEL CONGRESO DE LOS DIPUTADOS',\n",
              "   'name2': 'Batet Lamaña',\n",
              "   'span': [31721, 31788],\n",
              "   'texto': ' Buenos días, señorías.\\nVamos a proceder al juramento o promesa de acatamiento de la Constitución de todos los miembros de la Cámara, en los términos previstos en el Reglamento de la misma. (La señora Álvarez de Toledo Peralta-Ramos pide la palabra).\\nSí, señora Álvarez de Toledo.'},\n",
              "  {'name1': 'ÁLVAREZ DE TOLEDO PERALTA-RAMOS',\n",
              "   'name2': None,\n",
              "   'span': [32068, 32111],\n",
              "   'texto': ' Por una cuestión de Reglamento.\\nSeñora presidenta, después del espectáculo humillante para la democracia que vivimos aquí el pasado mes de mayo y que se ha vuelto a vivir esta mañana en el Senado, y dado que la presidenta ayer saliente y hoy entrante contestó a una carta\\nque le enviamos diciendo básicamente que no iba a hacer nada o solo un mínimo esfuerzo para garantizar la pulcritud legal de los juramentos en el día de hoy, ruego a la Presidencia que se lea la resolución de esta Presidencia de 1989 que especifica\\nclaramente cómo deben producirse esos juramentos, así como también el párrafo clave de la sentencia 119/1990 que dice literalmente que los juramentos no pueden acompañarse de cláusulas o expresiones que de una forma u otra vacíen, limiten o\\ncondicionen su sentido propio, sea cual fuese la justificación invocada para ello. Es decir, que no caben juramentos con reservas mentales, ni por supuesto verbales, y que todos los electos tengan muy claro a qué consecuencias se atienen, que se\\natengan a las consecuencias de no jurar de manera perfectamente escrupulosa de acuerdo con el Reglamento, la Constitución y, por supuesto, la Presidencia si no garantiza que eso sea así.\\nMuchas gracias. (Aplausos).'},\n",
              "  {'name1': 'PRESIDENTA',\n",
              "   'name2': None,\n",
              "   'span': [33334, 33356],\n",
              "   'texto': ' Muchas gracias, señora Álvarez de Toledo, por velar por el buen hacer de esta presidenta. La señora presidenta es muy consciente de sus responsabilidades y de sus obligaciones, y desde luego la Presidencia es ejercida\\nde acuerdo con argumentos jurídicos, de acuerdo con la base normativa que le corresponde, esto es, el Reglamento, la resolución y las sentencias del Tribunal Constitucional en toda su interpretación e incluso teniendo ya esta vez -no en la anterior\\ndel 21 de mayo, pero ahora sí- un criterio adicional de la Junta Electoral Central. Por tanto, señora Álvarez de Toledo, la Presidencia aplicará el Reglamento, la resolución y toda la normativa vigente, incluida la jurisprudencia del Tribunal\\nConstitucional, para garantizar sobre todo que los derechos fundamentales en España y en este Parlamento se puedan ejercer de la mejor manera posible, haciendo una aplicación flexible, como así indica el Tribunal Constitucional (protestas), para que\\nse garantice el derecho fundamental a la participación -artículo 23 de la Constitución-. En este sentido creo que se puede usted quedar tranquila. La presidenta no va a hacer una aplicación arbitraria de las normas, sino que va a hacer una\\naplicación jurídica de las mismas. Muchas gracias. (Aplausos).\\nVamos a proceder, como había iniciado ya a anunciar, al juramento o promesa de acatamiento a la Constitución de todos los miembros de la Cámara en los términos previstos en el Reglamento de la misma y en la resolución de la Presidencia de 30\\nde noviembre de 1989. Lo harán en primer lugar la Presidencia y los miembros de la Mesa, y a continuación los restantes señores diputados. Ruego a los miembros de la Mesa que se pongan en pie.\\nPrometo acatar la Constitución y cumplir fielmente mis obligaciones como presidenta del Congreso de los Diputados.\\nDon Alfonso Rodríguez Gómez de Celis, ¿jura o promete acatar la Constitución y cumplir fielmente sus obligaciones como vicepresidente primero?'},\n",
              "  {'name1': 'RODRÍGUEZ GÓMEZ DE CELIS',\n",
              "   'name2': None,\n",
              "   'span': [35312, 35347],\n",
              "   'texto': ' Sí, prometo.'},\n",
              "  {'name1': 'PRESIDENTA',\n",
              "   'name2': None,\n",
              "   'span': [35360, 35382],\n",
              "   'texto': ' Doña Ana María Pastor Julián, ¿jura o promete acatar la Constitución y cumplir fielmente sus obligaciones como vicepresidenta segunda?'},\n",
              "  {'name1': 'PASTOR JULIÁN',\n",
              "   'name2': None,\n",
              "   'span': [35517, 35542],\n",
              "   'texto': ' Sí, juro.'},\n",
              "  {'name1': 'PRESIDENTA',\n",
              "   'name2': None,\n",
              "   'span': [35552, 35574],\n",
              "   'texto': ' Doña María Gloria Elizo Serrano, ¿jura o promete acatar la Constitución y cumplir fielmente sus obligaciones como vicepresidenta tercera?'},\n",
              "  {'name1': 'ELIZO SERRANO',\n",
              "   'name2': None,\n",
              "   'span': [35712, 35737],\n",
              "   'texto': ' Sí, prometo.'},\n",
              "  {'name1': 'PRESIDENTA',\n",
              "   'name2': None,\n",
              "   'span': [35750, 35772],\n",
              "   'texto': ' Y don Ignacio Gil Lázaro, ¿jura o promete acatar la Constitución y cumplir fielmente sus obligaciones como vicepresidente cuarto?'},\n",
              "  {'name1': 'GIL LÁZARO',\n",
              "   'name2': None,\n",
              "   'span': [35902, 35923],\n",
              "   'texto': ' Por España, sí, juro.'},\n",
              "  {'name1': 'PRESIDENTA',\n",
              "   'name2': None,\n",
              "   'span': [35945, 35967],\n",
              "   'texto': ' Don Gerardo Pisarello Prados, ¿jura o promete acatar la Constitución y cumplir fielmente sus obligaciones como secretario primero?'},\n",
              "  {'name1': 'PISARELLO PRADOS',\n",
              "   'name2': None,\n",
              "   'span': [36098, 36125],\n",
              "   'texto': ' Por las trece rosas, sí, prometo.'},\n",
              "  {'name1': 'PRESIDENTA',\n",
              "   'name2': None,\n",
              "   'span': [36159, 36181],\n",
              "   'texto': ' Doña Sofía Hernanz Costa, ¿jura o promete acatar la Constitución y cumplir fielmente sus obligaciones como secretaria segunda?'},\n",
              "  {'name1': 'HERNANZ COSTA',\n",
              "   'name2': None,\n",
              "   'span': [36308, 36333],\n",
              "   'texto': ' Sí, prometo.'},\n",
              "  {'name1': 'PRESIDENTA',\n",
              "   'name2': None,\n",
              "   'span': [36346, 36368],\n",
              "   'texto': ' Don Javier Sánchez Serna, ¿jura o promete acatar la Constitución y cumplir fielmente sus obligaciones como secretario tercero?'},\n",
              "  {'name1': 'SÁNCHEZ SERNA',\n",
              "   'name2': None,\n",
              "   'span': [36495, 36519],\n",
              "   'texto': ' Por la democracia y los derechos sociales, sí, prometo.'},\n",
              "  {'name1': 'PRESIDENTA',\n",
              "   'name2': None,\n",
              "   'span': [36575, 36597],\n",
              "   'texto': ' Don Adolfo Suárez Illana, ¿jura o promete acatar la Constitución y cumplir fielmente sus obligaciones como secretario cuarto?'},\n",
              "  {'name1': 'SUÁREZ ILLANA',\n",
              "   'name2': None,\n",
              "   'span': [36723, 36747],\n",
              "   'texto': ' Sí, juro.'},\n",
              "  {'name1': 'PRESIDENTA',\n",
              "   'name2': None,\n",
              "   'span': [36757, 36779],\n",
              "   'texto': ' Muchas gracias.\\nPasamos ahora al juramento general. La pregunta que se formula en términos generales es la siguiente: señorías, ¿juráis o prometéis acatar la Constitución?\\nRuego al señor secretario primero que proceda al llamamiento por orden alfabético para que las señoras y señores diputados puedan proceder al acatamiento. Los miembros del Gobierno en funciones lo harán al final.\\nPor los secretarios de la Mesa se procede a dar lectura de la lista de las señoras y los señores diputados electos, quienes juran, prometen o lo hacen utilizando otras fórmulas de acatamiento de la Constitución, excepto el señor Jaume\\nAlonso-Cuevillas i Sayrol que está ausente.\\nDurante la lectura, el señor Abascal Conde pide la palabra, a lo que la señora presidenta le señala que dará la palabra al final del acatamiento a quien lo solicite.\\nA continuación, también por los secretarios de la Mesa, se procede a dar lectura de los miembros del Gobierno en funciones, diputados electos, quienes juran o prometen la Constitución.'},\n",
              "  {'name1': 'PRESIDENTA',\n",
              "   'name2': None,\n",
              "   'span': [37794, 37816],\n",
              "   'texto': ' Muchas gracias a los cuatro secretarios.\\nTodas las señoras y los señores diputados que han contestado al llamamiento han adquirido la condición plena de diputados y diputadas. (Aplausos.-Los señores Casado Blanco, García Egea, Mariscal Anaya y la señora Álvarez de Toledo\\nPeralta-Ramos piden la palabra).\\nSeñor Casado, tiene la palabra.'},\n",
              "  {'name1': 'CASADO BLANCO',\n",
              "   'name2': None,\n",
              "   'span': [38153, 38177],\n",
              "   'texto': ' Tal y como ha avisado anteriormente la portavoz del Grupo Popular, este grupo iba a estar muy vigilante al desarrollo de la sesión de hoy. Quiero hacer una reflexión: si esta Cámara no se defiende a sí misma de un\\nespectáculo que atenta gravemente no contra el decoro parlamentario, sino contra el propio orden constitucional en una sesión solemne, creo que empezamos a tener un problema del propio pilar institucional de nuestra nación.\\nQuiero recordar que el artículo 108 de la Ley Orgánica del Régimen Electoral General dice que para adquirir la condición plena como parlamentario hace falta acatar públicamente la Constitución. Del mismo modo, se ha recordado que hay una\\nresolución de la Cámara -también el artículo 20 del Reglamento- que dice que para el juramento o promesa no se pueden utilizar fórmulas que desvirtúen o vacíen el sentido del acatamiento de la Carta Magna. Y en esta ocasión, en esta sesión solemne,\\nesto ha sucedido al menos en casi medio centenar de ocasiones. Por eso, señora presidenta, usted no debería haber dicho que todos los diputados han adquirido la condición plena como parlamentarios. Al menos, tenía que haber puesto medios para que\\nlos servicios taquigráficos, a través de la grabación o la traducción de algunas de las expresiones, pudieran cotejar con la Mesa de la Cámara si esto ha sido así. En nuestra opinión, no ha sido así y, por eso, vamos a presentar un recurso de\\namparo ante la Mesa y también ante el Tribunal Constitucional. (Aplausos). Pero le pedimos, en su concepto de flexibilidad, que guarde el pilar institucional que esta Cámara merece frente al espectáculo que hoy se ha vuelto a reiterar.\\nMuchas gracias. (Aplausos.-El señor Abascal Conde pide la palabra).'},\n",
              "  {'name1': 'PRESIDENTA',\n",
              "   'name2': None,\n",
              "   'span': [39896, 39918],\n",
              "   'texto': ' Gracias, señor Casado.\\nSeñor Abascal.'},\n",
              "  {'name1': 'ABASCAL CONDE',\n",
              "   'name2': None,\n",
              "   'span': [39956, 39980],\n",
              "   'texto': ' Señora presidenta, al amparo del artículo 72.1 del Reglamento en relación con los artículos 4, 20 y 32, apartados 1 y 2, solicito la palabra para pedir a la Presidencia que, aunque sea a posteriori, cumpla y haga\\ncumplir y respetar el Reglamento de esta Cámara. A nuestro juicio, y según la clarísima sentencia del Tribunal Constitucional, hoy los electos de Junts pel Sí, de Esquerra Republicana, del Partido Nacionalista Vasco, de Bildu y del Bloque\\nNacionalista Galego, no han alcanzado la condición de diputados porque su fórmula de juramento no es válida según la Sentencia 119/1990 del Tribunal Constitucional, que expresa con claridad que las fórmulas imaginativas tienen como límite que su\\nformulación no desnaturalice o vacíe de contenido el acatamiento mismo mediante fórmulas que supongan un fraude de ley o priven de sentido al propio acatamiento, que es exactamente lo que ha ocurrido. Es muy evidente que no solamente no han jurado\\nla Constitución algunos de los electos, sino que han realizado un acto de conjura contra la Constitución, y me remito de nuevo a la sentencia del Tribunal Constitucional cuando dice que lo decisivo es que el acatamiento a la Constitución haya sido\\nincondicional y pleno.\\nEn consecuencia, como es tan evidente que estos señores se han manifestado conjurándose contra la Constitución o evitando su juramento, solicitamos a la Mesa y a la Presidencia que estudien con detenimiento estas fórmulas y que adviertan, en\\nsu caso, a los señores electos de la ineficacia de la fórmula empleada y de que, por no cumplir los requisitos de los artículos 4 y 20 del Reglamento, no adquieren la condición de diputados. En caso contrario, señora presidenta, queremos dejar\\nconstancia en esta Cámara - concluyo ya- de que el Grupo Parlamentario VOX se reserva todas las acciones legales, incluso ante los tribunales, no solamente contra los electos que van a adquirir la condición de diputados ilegalmente en el día de hoy,\\nsino también contra la Presidencia de la Cámara y los miembros de la Mesa que lo permitan por la posible comisión de una prevaricación administrativa.\\nMuchas gracias, señora presidenta. (Aplausos.-La señora Arrimadas García pide la palabra).'},\n",
              "  {'name1': 'PRESIDENTA',\n",
              "   'name2': None,\n",
              "   'span': [42175, 42197],\n",
              "   'texto': ' Muchas gracias, señor Abascal.\\nSeñora Arrimadas.'},\n",
              "  {'name1': 'ARRIMADAS GARCÍA',\n",
              "   'name2': None,\n",
              "   'span': [42246, 42274],\n",
              "   'texto': \" Señora presidenta, le pido la palabra por el artículo 72 del Reglamento.\\nSeñora presidenta, claramente en esta sesión no se ha cumplido no solo el Reglamento, sino las sentencias relativas a cómo se tiene que acceder al cargo de diputado. Usted hacía referencia en su primera intervención a la flexibilidad. Es\\ncierto que en la sentencia se habla de flexibilidad, y podemos entender que algunos de los diputados y diputadas al acceder a su cargo hayan dicho cosas que entren dentro de la flexibilidad; por ejemplo, 'por España' (rumores), 'por los derechos\\nhumanos' o incluso una que a mí me encantó en la legislatura anterior en la que se juró 'por el planeta'. Eso, dentro de lo que cabe, no sale de lo que es la flexibilidad. Pero aquí, señora presidenta, se ha jurado o prometido el cargo con graves\\ninsultos a nuestra democracia. Aquí se ha dicho que España es una dictadura. Aquí se acaba de decir que hay presos políticos. Eso, señora presidenta, y usted lo debería saber, es decir que los jueces son prevaricadores que meten en la cárcel a la\\ngente por sus ideas. Usted, señora presidenta del Congreso, no es solo presidenta para los privilegios que le son dados por ser la segunda institución de España, usted es presidenta también\\npara las obligaciones, y la mayor obligación que tiene es mantener el decoro de esta Cámara y el respeto a las instituciones del Estado. Usted no puede permitir que, como añadido a un juro o prometo, se insulte a los jueces, a la democracia\\nde este país o, incluso, se ponga en duda que esta sea la Cámara de la soberanía nacional hablando paralelamente de otras soberanías que la fragmentan.\\nYo le pido, señora presidenta del Congreso, que recuerde que no es la delegada de Sánchez en la Mesa. Usted es la que debe velar por el cumplimiento del Reglamento y de todas las sentencias. Por es, le pido que no vuelva a cometer el error\\nque cometió en la pasada legislatura y que haga cumplir el Reglamento. Porque le vuelvo a decir que usted no es solo la presidenta del Congreso para los privilegios que le otorga su cargo; usted también es presidenta para las obligaciones.\\nMuchas gracias. (Aplausos).\"},\n",
              "  {'name1': 'PRESIDENTA',\n",
              "   'name2': None,\n",
              "   'span': [44416, 44438],\n",
              "   'texto': ' Muchas gracias a las tres señorías que han solicitado la palabra.\\nSiguiendo del aprendizaje de un referente político para mí que decía que política es pedagogía, me voy a permitir compartir con todos ustedes algunos párrafos de las sentencias a las que estamos haciendo alusión. Me refiero a las sentencias\\ndel Tribunal Constitucional. La sentencia 119/1990 nos dice: No resulta congruente una interpretación de la obligación de prestar acatamiento a la Constitución que antepone un formalismo rígido a toda otra consideración, porque de ese modo se\\nviolenta la misma Constitución de cuyo acatamiento se trata, se olvida el mayor valor de los derechos fundamentales, en concreto los del artículo 23, y se hace prevalecer una interpretación de la Constitución excluyente frente a otra integradora.\\nContinúo con otra sentencia del Tribunal Constitucional, la 74/1991: La naturaleza misma de la función representativa, con un evidente sustrato democrático producto de las elecciones, refuerza la idea de interpretación flexible de los requisitos\\nformales, haciendo prevalecer, pues, los derechos de participación y representación sobre una exigencia formalista o rigorista de los requisitos que no guarde proporción alguna con la finalidad perseguida al establecerlos y con la trascendencia\\nmisma del requisito.\\nEsta interpretación del Tribunal Constitucional la hace también la Junta Electoral Central cuando dice en su Acuerdo 527/2019: La junta entiende que estas fórmulas son admisibles en la medida en que, de conformidad con la jurisprudencia del\\nTribunal Constitucional -y hace referencia a las dos sentencias citadas-, contienen expresiones que tienen un sentido modal o causal que no implica condición, reserva ni limitación alguna del acatamiento a la Constitución.\\nTodas las fórmulas utilizadas hoy han sido anteriormente utilizadas y, por tanto, también supervisadas por la Junta Electoral Central. (Rumores). Esta interpretación que hacen tanto el Tribunal Constitucional como la Junta Electoral\\nCentral, esta interpretación integradora, es precisamente la que hace también esta presidenta, porque está convencida de que reforzando nuestros derechos fundamentales lo que hacemos es reforzar nuestra democracia. Finalmente, el mismo artículo que\\nles ha facultado para solicitar la palabra prevé expresamente que debe acatarse la decisión que adopte la Presidencia y que no cabe debate alguno al respecto.\\nMuchas gracias. (Aplausos, con algunas señoras y señores diputados puestos en pie).\\nDISCURSO DE LA SEÑORA PRESIDENTA DEL CONGRESO DE LOS DIPUTADOS.'},\n",
              "  {'name1': 'PRESIDENTA',\n",
              "   'name2': None,\n",
              "   'span': [47000, 47022],\n",
              "   'texto': \" Y ahora, si me lo permiten, señorías, quería dirigirme también a la Cámara con otras palabras; palabras complementarias. Señoras y señores, empezaré por felicitar a todas sus señorías por su elección como diputadas y\\ndiputados, y también con este motivo evocar un consejo que forma parte de la cultura cívica y sentimental de muchas generaciones, y que nos recuerda la gran responsabilidad que acompaña al ejercicio del poder. El poder nos da cosas tan importantes\\ncomo la capacidad de cambiar el mundo, pero no nos da otras que son igual de importantes; por ejemplo, el poder no nos da la razón, y eso nos obliga a la prudencia. De modo que, además de agradecerles la confianza en nombre de todos los miembros\\nde la Mesa y en el mío propio, les prometo que usaremos con prudencia esa confianza que han depositado en nosotros, y que lo haremos al servicio de los intereses generales velando por el buen funcionamiento de esta institución, que es la institución\\nprincipal de la democracia. El Legislativo es el poder que procede directamente de la voluntad popular y que representa al titular de la soberanía del que emanan los demás poderes democráticos. Una gran responsabilidad la nuestra, señorías.\\nSea cual sea nuestra posición y la del grupo político al que cada uno pertenecemos, esa responsabilidad nos exige trabajar para cumplir con los fines y objetivos de la tarea parlamentaria. Esta es, sin duda, representar a los ciudadanos,\\npero además hay que representarlos con el propósito de desarrollar eficazmente las funciones que la Constitución atribuye al Parlamento y que se concretan en hacer realidad\\nlas políticas que demanda nuestra sociedad. No es tarea fácil, como mostró la anterior legislatura, pero es nuestro cometido y por él deberemos responder ante los ciudadanos.\\nEn un tiempo en el que la complejidad de nuestras sociedades alcanza niveles que no tienen parangón en el pasado es más necesario que nunca que las luces de la razón iluminen el gobierno de los asuntos públicos, y la razón que ilumina en\\npolítica es la que nace de la deliberación entre quienes tienen diferentes visiones, valores e intereses. Nos traen aquí nuestras diferencias y paradójicamente unidos por aquello que nos separa, es aquí, en este espacio de representación y\\ndeliberación, donde emerge la comprensión de la verdadera naturaleza de los valores compartidos y de los intereses generales, una comprensión que debe nacer de la escucha y del diálogo con quienes piensan diferente o incluso contrariamente a lo que\\nnosotros pensamos.\\nLa calidad de nuestro trabajo depende de muchos factores, pero hay uno que es esencial: el respeto. Resulta asombroso que después de lo vivido y padecido todavía hoy sean actuales las palabras que Fernando de los Ríos pronunciara aquí\\nmismo, al comienzo de la década de los treinta del siglo pasado, al afirmar que en España lo verdaderamente revolucionario es el respeto. El respeto no es un adorno, sino un valor sustantivo de la actividad humana en general y de la actividad\\npolítica en particular. El respeto es un valor exigente, es activo, impone contención y consideración y conviene empezar por respetarse a sí mismo. Por eso, es bueno seguir el consejo de Don Quijote a su escudero, elevado a la condición de\\ngobernador, cuando le dice: 'Has de poner los ojos en quien eres, procurando conocerte a ti mismo, que es el más difícil conocimiento que puede imaginarse'. Y sigue Cervantes: 'Del conocerte saldrá el no hincharte como la rana que quiso igualarse\\ncon el buey'. Nos conviene a todos saber quién habla desde la tribuna de oradores, pero sobre todo le conviene saberlo al que habla. No es prudente encumbrarse demasiado, no solo por decoro, sino porque a ciertas alturas falta el oxígeno y sin\\noxígeno falla el razonamiento. Como dije en la anterior sesión constitutiva, ni siquiera la mayoría es el pueblo y, por supuesto, tampoco lo es la minoría, así que mucho menos ninguno de nosotros individualmente. Quizá la medida del decoro sea\\nacompasar el tamaño de nuestras palabras al de nuestros actos individual y colectivamente.\\nTenemos la fortuna, gracias a las generaciones que nos han precedido, de tener muchas cosas valiosas que preservar. La sociedad española, con todos sus defectos y problemas, es una buena sociedad. España es un buen lugar para nacer y para\\nvivir. Nuestro deber generacional es mejorarla, legar a nuestras hijas e hijos una sociedad mejor y para eso debemos poner cuanto antes manos a la obra. Y la obra en política empieza por el respeto y el diálogo. Hoy, en el Congreso con más\\nagrupaciones políticas de nuestra historia democrática, puede parecernos que nuestra fragmentación y la disparidad de nuestras posiciones harán estéril cualquier diálogo, pero quien eso crea hará bien en pensar que el diálogo es en la política lo\\nque el trabajo de investigación básica es en la ciencia. Y como dijo Margarita Salas, quien merece un recuerdo en esta Cámara por su contribución a la ciencia en España, lo importante es hacer investigación básica y, luego, de esta pueden salir\\nresultados aplicables que no son previsibles a primera vista y, sin embargo, salen. Invirtamos, pues, en respeto y diálogo leal porque de esa inversión, estoy segura, saldrán resultados. Señorías, obras son amores. Se honra al Congreso y a la\\ndemocracia en los actos, en nuestros actos como diputados y como diputadas, y ese es mi compromiso que espero cumplir, con la ayuda de todos ustedes y de todas las personas que trabajan en esta casa, con responsabilidad y con respeto.\\nMuchísimas gracias, moltes gràcies, moitas grazas, eskerrrik asko. (Aplausos de las señoras y los señores diputados, algunos puestos en pie).\\nDe conformidad con lo dispuesto en el artículo 4 del Reglamento de la Cámara, declaro constituido el Congreso de los Diputados. De este hecho se dará cuenta a su majestad el Rey, al Senado y al Gobierno.\\nSe levanta la sesión.\\nEran las tres y treinta y cinco minutos de la tarde.\\n[**********página con cuadro**********]\"}]}"
            ]
          },
          "execution_count": 2,
          "metadata": {},
          "output_type": "execute_result"
        }
      ],
      "source": [
        "corpus[0]"
      ]
    },
    {
      "cell_type": "markdown",
      "id": "65e1b139-ca49-4cb0-ac13-b3644d397e77",
      "metadata": {
        "id": "65e1b139-ca49-4cb0-ac13-b3644d397e77"
      },
      "source": [
        "## Extraer metadatos \n",
        "\n",
        "Los metadatos se encuentran a en una cadena de caracetres. La siguiente función extrae los distintos metadatos de esta cadena.\n"
      ]
    },
    {
      "cell_type": "code",
      "execution_count": null,
      "id": "7e640d4c-ee6a-4510-abe8-00b770fd8849",
      "metadata": {
        "id": "7e640d4c-ee6a-4510-abe8-00b770fd8849",
        "outputId": "b81e29ee-af08-4dc1-acd1-e841e23aa3bb"
      },
      "outputs": [
        {
          "data": {
            "text/plain": [
              "{'cámara': 'DS. Congreso de los Diputados',\n",
              " 'organismo': ' Pleno y Dip. Perm.',\n",
              " 'numero': 1,\n",
              " 'fecha': '03/12/2019'}"
            ]
          },
          "execution_count": 3,
          "metadata": {},
          "output_type": "execute_result"
        }
      ],
      "source": [
        "from datetime import datetime\n",
        "\n",
        "# Extraer los datos de la sesión\n",
        "\n",
        "def extract_data(data_str):\n",
        "    \n",
        "    # Separa los elementos por coma\n",
        "    data_splitted = data_str.split(\",\")\n",
        "    \n",
        "    # Los dos primeros campo los cogemos tal cual\n",
        "    data ={ \"cámara\": data_splitted[0],\n",
        "          \"organismo\": data_splitted[1]}\n",
        "    \n",
        "    # Extrae el número de sesión\n",
        "    num = int(data_splitted[2][5:])    \n",
        "    data[\"numero\"] = num\n",
        "    \n",
        "    # Extrae fecha - se queda como str para dejarlo a gusto del consumidor\n",
        "    fecha = data_splitted[3][4:]\n",
        "    data[\"fecha\"] = fecha\n",
        "    return data\n",
        "\n",
        "extract_data(corpus[0][\"datos\"])"
      ]
    },
    {
      "cell_type": "markdown",
      "id": "70f92847-901b-4ad9-8823-4161c814f222",
      "metadata": {
        "id": "70f92847-901b-4ad9-8823-4161c814f222"
      },
      "source": [
        "Con estos datos ya podemos crear una estrutura tabular."
      ]
    },
    {
      "cell_type": "code",
      "execution_count": null,
      "id": "3c58b637-115c-4189-9db1-55a992b9593d",
      "metadata": {
        "id": "3c58b637-115c-4189-9db1-55a992b9593d"
      },
      "outputs": [],
      "source": [
        "import pandas as pd\n",
        "dataset_df = pd.DataFrame([extract_data(sesion[\"datos\"]) | {\"orden_interv\":i, \"name1\": interv[\"name1\"], \"name2\": interv[\"name2\"], \"texto\":interv[\"texto\"]} for sesion in corpus for i, interv in enumerate(sesion[\"intervenciones\"])])\n",
        "        "
      ]
    },
    {
      "cell_type": "code",
      "execution_count": null,
      "id": "5ad3ad78-0863-4869-9304-0b64cc7133fe",
      "metadata": {
        "id": "5ad3ad78-0863-4869-9304-0b64cc7133fe",
        "outputId": "27d831ce-786e-4892-b66e-4ce64f5578a2"
      },
      "outputs": [
        {
          "data": {
            "text/html": [
              "<div>\n",
              "<style scoped>\n",
              "    .dataframe tbody tr th:only-of-type {\n",
              "        vertical-align: middle;\n",
              "    }\n",
              "\n",
              "    .dataframe tbody tr th {\n",
              "        vertical-align: top;\n",
              "    }\n",
              "\n",
              "    .dataframe thead th {\n",
              "        text-align: right;\n",
              "    }\n",
              "</style>\n",
              "<table border=\"1\" class=\"dataframe\">\n",
              "  <thead>\n",
              "    <tr style=\"text-align: right;\">\n",
              "      <th></th>\n",
              "      <th>cámara</th>\n",
              "      <th>organismo</th>\n",
              "      <th>numero</th>\n",
              "      <th>fecha</th>\n",
              "      <th>orden_interv</th>\n",
              "      <th>name1</th>\n",
              "      <th>name2</th>\n",
              "      <th>texto</th>\n",
              "    </tr>\n",
              "  </thead>\n",
              "  <tbody>\n",
              "    <tr>\n",
              "      <th>0</th>\n",
              "      <td>DS. Congreso de los Diputados</td>\n",
              "      <td>Pleno y Dip. Perm.</td>\n",
              "      <td>1</td>\n",
              "      <td>03/12/2019</td>\n",
              "      <td>0</td>\n",
              "      <td>PRESIDENTE DE LA MESA DE EDAD</td>\n",
              "      <td>Zamarrón Moreno</td>\n",
              "      <td>Señorías, se abre la sesión.\\nEn virtud de lo...</td>\n",
              "    </tr>\n",
              "    <tr>\n",
              "      <th>1</th>\n",
              "      <td>DS. Congreso de los Diputados</td>\n",
              "      <td>Pleno y Dip. Perm.</td>\n",
              "      <td>1</td>\n",
              "      <td>03/12/2019</td>\n",
              "      <td>1</td>\n",
              "      <td>PRESIDENTE DE LA MESA DE EDAD</td>\n",
              "      <td>Zamarrón Moreno</td>\n",
              "      <td>De conformidad con lo dispuesto en el artícul...</td>\n",
              "    </tr>\n",
              "    <tr>\n",
              "      <th>2</th>\n",
              "      <td>DS. Congreso de los Diputados</td>\n",
              "      <td>Pleno y Dip. Perm.</td>\n",
              "      <td>1</td>\n",
              "      <td>03/12/2019</td>\n",
              "      <td>2</td>\n",
              "      <td>SECRETARIA DE LA MESA DE EDAD</td>\n",
              "      <td>Rosique i Saltor</td>\n",
              "      <td>Artículo 5 del Real Decreto 551/2019, de 24 d...</td>\n",
              "    </tr>\n",
              "    <tr>\n",
              "      <th>3</th>\n",
              "      <td>DS. Congreso de los Diputados</td>\n",
              "      <td>Pleno y Dip. Perm.</td>\n",
              "      <td>1</td>\n",
              "      <td>03/12/2019</td>\n",
              "      <td>3</td>\n",
              "      <td>PRESIDENTE DE LA MESA DE EDAD</td>\n",
              "      <td>Zamarrón Moreno</td>\n",
              "      <td>Las señoras secretarias de la Mesa procederán...</td>\n",
              "    </tr>\n",
              "    <tr>\n",
              "      <th>4</th>\n",
              "      <td>DS. Congreso de los Diputados</td>\n",
              "      <td>Pleno y Dip. Perm.</td>\n",
              "      <td>1</td>\n",
              "      <td>03/12/2019</td>\n",
              "      <td>4</td>\n",
              "      <td>SECRETARIA DE LA MESA DE EDAD</td>\n",
              "      <td>Rosique i Saltor</td>\n",
              "      <td>Junqueras i Vies, Oriol; Forn Chiariello, Joa...</td>\n",
              "    </tr>\n",
              "  </tbody>\n",
              "</table>\n",
              "</div>"
            ],
            "text/plain": [
              "                          cámara            organismo  numero       fecha  \\\n",
              "0  DS. Congreso de los Diputados   Pleno y Dip. Perm.       1  03/12/2019   \n",
              "1  DS. Congreso de los Diputados   Pleno y Dip. Perm.       1  03/12/2019   \n",
              "2  DS. Congreso de los Diputados   Pleno y Dip. Perm.       1  03/12/2019   \n",
              "3  DS. Congreso de los Diputados   Pleno y Dip. Perm.       1  03/12/2019   \n",
              "4  DS. Congreso de los Diputados   Pleno y Dip. Perm.       1  03/12/2019   \n",
              "\n",
              "   orden_interv                          name1             name2  \\\n",
              "0             0  PRESIDENTE DE LA MESA DE EDAD   Zamarrón Moreno   \n",
              "1             1  PRESIDENTE DE LA MESA DE EDAD   Zamarrón Moreno   \n",
              "2             2  SECRETARIA DE LA MESA DE EDAD  Rosique i Saltor   \n",
              "3             3  PRESIDENTE DE LA MESA DE EDAD   Zamarrón Moreno   \n",
              "4             4  SECRETARIA DE LA MESA DE EDAD  Rosique i Saltor   \n",
              "\n",
              "                                               texto  \n",
              "0   Señorías, se abre la sesión.\\nEn virtud de lo...  \n",
              "1   De conformidad con lo dispuesto en el artícul...  \n",
              "2   Artículo 5 del Real Decreto 551/2019, de 24 d...  \n",
              "3   Las señoras secretarias de la Mesa procederán...  \n",
              "4   Junqueras i Vies, Oriol; Forn Chiariello, Joa...  "
            ]
          },
          "execution_count": 5,
          "metadata": {},
          "output_type": "execute_result"
        }
      ],
      "source": [
        "dataset_df.head()"
      ]
    },
    {
      "cell_type": "markdown",
      "id": "dc6f9e61-96c0-46ff-865f-a8cac267a6d8",
      "metadata": {
        "id": "dc6f9e61-96c0-46ff-865f-a8cac267a6d8"
      },
      "source": [
        "## Limpieza\n",
        "Lo único que necesaitamos hacer es reemplazar los saltos de líneas por espacios."
      ]
    },
    {
      "cell_type": "code",
      "execution_count": null,
      "id": "ea6afc77-cfe2-431a-b4d7-6908e255f344",
      "metadata": {
        "id": "ea6afc77-cfe2-431a-b4d7-6908e255f344",
        "outputId": "91bbd6a7-cb55-4b41-e422-80665e62f5c5"
      },
      "outputs": [
        {
          "data": {
            "text/html": [
              "<div>\n",
              "<style scoped>\n",
              "    .dataframe tbody tr th:only-of-type {\n",
              "        vertical-align: middle;\n",
              "    }\n",
              "\n",
              "    .dataframe tbody tr th {\n",
              "        vertical-align: top;\n",
              "    }\n",
              "\n",
              "    .dataframe thead th {\n",
              "        text-align: right;\n",
              "    }\n",
              "</style>\n",
              "<table border=\"1\" class=\"dataframe\">\n",
              "  <thead>\n",
              "    <tr style=\"text-align: right;\">\n",
              "      <th></th>\n",
              "      <th>cámara</th>\n",
              "      <th>organismo</th>\n",
              "      <th>numero</th>\n",
              "      <th>fecha</th>\n",
              "      <th>orden_interv</th>\n",
              "      <th>name1</th>\n",
              "      <th>name2</th>\n",
              "      <th>texto</th>\n",
              "    </tr>\n",
              "  </thead>\n",
              "  <tbody>\n",
              "    <tr>\n",
              "      <th>0</th>\n",
              "      <td>DS. Congreso de los Diputados</td>\n",
              "      <td>Pleno y Dip. Perm.</td>\n",
              "      <td>1</td>\n",
              "      <td>03/12/2019</td>\n",
              "      <td>0</td>\n",
              "      <td>PRESIDENTE DE LA MESA DE EDAD</td>\n",
              "      <td>Zamarrón Moreno</td>\n",
              "      <td>Señorías, se abre la sesión. En virtud de lo ...</td>\n",
              "    </tr>\n",
              "    <tr>\n",
              "      <th>1</th>\n",
              "      <td>DS. Congreso de los Diputados</td>\n",
              "      <td>Pleno y Dip. Perm.</td>\n",
              "      <td>1</td>\n",
              "      <td>03/12/2019</td>\n",
              "      <td>1</td>\n",
              "      <td>PRESIDENTE DE LA MESA DE EDAD</td>\n",
              "      <td>Zamarrón Moreno</td>\n",
              "      <td>De conformidad con lo dispuesto en el artícul...</td>\n",
              "    </tr>\n",
              "    <tr>\n",
              "      <th>2</th>\n",
              "      <td>DS. Congreso de los Diputados</td>\n",
              "      <td>Pleno y Dip. Perm.</td>\n",
              "      <td>1</td>\n",
              "      <td>03/12/2019</td>\n",
              "      <td>2</td>\n",
              "      <td>SECRETARIA DE LA MESA DE EDAD</td>\n",
              "      <td>Rosique i Saltor</td>\n",
              "      <td>Artículo 5 del Real Decreto 551/2019, de 24 d...</td>\n",
              "    </tr>\n",
              "    <tr>\n",
              "      <th>3</th>\n",
              "      <td>DS. Congreso de los Diputados</td>\n",
              "      <td>Pleno y Dip. Perm.</td>\n",
              "      <td>1</td>\n",
              "      <td>03/12/2019</td>\n",
              "      <td>3</td>\n",
              "      <td>PRESIDENTE DE LA MESA DE EDAD</td>\n",
              "      <td>Zamarrón Moreno</td>\n",
              "      <td>Las señoras secretarias de la Mesa procederán...</td>\n",
              "    </tr>\n",
              "    <tr>\n",
              "      <th>4</th>\n",
              "      <td>DS. Congreso de los Diputados</td>\n",
              "      <td>Pleno y Dip. Perm.</td>\n",
              "      <td>1</td>\n",
              "      <td>03/12/2019</td>\n",
              "      <td>4</td>\n",
              "      <td>SECRETARIA DE LA MESA DE EDAD</td>\n",
              "      <td>Rosique i Saltor</td>\n",
              "      <td>Junqueras i Vies, Oriol; Forn Chiariello, Joa...</td>\n",
              "    </tr>\n",
              "  </tbody>\n",
              "</table>\n",
              "</div>"
            ],
            "text/plain": [
              "                          cámara            organismo  numero       fecha  \\\n",
              "0  DS. Congreso de los Diputados   Pleno y Dip. Perm.       1  03/12/2019   \n",
              "1  DS. Congreso de los Diputados   Pleno y Dip. Perm.       1  03/12/2019   \n",
              "2  DS. Congreso de los Diputados   Pleno y Dip. Perm.       1  03/12/2019   \n",
              "3  DS. Congreso de los Diputados   Pleno y Dip. Perm.       1  03/12/2019   \n",
              "4  DS. Congreso de los Diputados   Pleno y Dip. Perm.       1  03/12/2019   \n",
              "\n",
              "   orden_interv                          name1             name2  \\\n",
              "0             0  PRESIDENTE DE LA MESA DE EDAD   Zamarrón Moreno   \n",
              "1             1  PRESIDENTE DE LA MESA DE EDAD   Zamarrón Moreno   \n",
              "2             2  SECRETARIA DE LA MESA DE EDAD  Rosique i Saltor   \n",
              "3             3  PRESIDENTE DE LA MESA DE EDAD   Zamarrón Moreno   \n",
              "4             4  SECRETARIA DE LA MESA DE EDAD  Rosique i Saltor   \n",
              "\n",
              "                                               texto  \n",
              "0   Señorías, se abre la sesión. En virtud de lo ...  \n",
              "1   De conformidad con lo dispuesto en el artícul...  \n",
              "2   Artículo 5 del Real Decreto 551/2019, de 24 d...  \n",
              "3   Las señoras secretarias de la Mesa procederán...  \n",
              "4   Junqueras i Vies, Oriol; Forn Chiariello, Joa...  "
            ]
          },
          "execution_count": 6,
          "metadata": {},
          "output_type": "execute_result"
        }
      ],
      "source": [
        "dataset_df[\"texto\"] = dataset_df[\"texto\"].str.replace(\"\\n\", \" \")\n",
        "dataset_df.head()"
      ]
    },
    {
      "cell_type": "code",
      "execution_count": null,
      "id": "a421720a-e805-4b63-bcbf-d84f9a3ffcab",
      "metadata": {
        "id": "a421720a-e805-4b63-bcbf-d84f9a3ffcab",
        "outputId": "156e17ec-c796-46a4-c8e0-bdf3f4ab66f4"
      },
      "outputs": [
        {
          "name": "stdout",
          "output_type": "stream",
          "text": [
            "<class 'pandas.core.frame.DataFrame'>\n",
            "RangeIndex: 46062 entries, 0 to 46061\n",
            "Data columns (total 8 columns):\n",
            " #   Column        Non-Null Count  Dtype \n",
            "---  ------        --------------  ----- \n",
            " 0   cámara        46062 non-null  object\n",
            " 1   organismo     46062 non-null  object\n",
            " 2   numero        46062 non-null  int64 \n",
            " 3   fecha         46062 non-null  object\n",
            " 4   orden_interv  46062 non-null  int64 \n",
            " 5   name1         46062 non-null  object\n",
            " 6   name2         11123 non-null  object\n",
            " 7   texto         46062 non-null  object\n",
            "dtypes: int64(2), object(6)\n",
            "memory usage: 2.8+ MB\n"
          ]
        }
      ],
      "source": [
        "dataset_df.info()"
      ]
    },
    {
      "cell_type": "markdown",
      "id": "5d16d18a-906c-4f26-9b07-025db2f07dd5",
      "metadata": {
        "id": "5d16d18a-906c-4f26-9b07-025db2f07dd5"
      },
      "source": [
        "## Anexa partido\n",
        "\n",
        "Los datos de los partidos se encuentran en dos archivos en formato de tabla extraídos de wikipedia.\n",
        "\n",
        "A continuación se meustran las características que dispone. En nuestro caso solo necesitamos el nombre y el grupo político al que pertenece."
      ]
    },
    {
      "cell_type": "code",
      "execution_count": null,
      "id": "fdcf1a7c-559e-4857-88a5-c724c93fce6a",
      "metadata": {
        "id": "fdcf1a7c-559e-4857-88a5-c724c93fce6a"
      },
      "outputs": [],
      "source": [
        "diputados = pd.read_csv(\"./dataset/Anexo_Diputados_de_la_XIV_legislatura_de_EspaB1a_2.csv\")\n",
        "diputados_baja = pd.read_csv(\"./dataset/Anexo_Diputados_de_la_XIV_legislatura_de_EspaB1a_causaronbaja.csv\")"
      ]
    },
    {
      "cell_type": "code",
      "execution_count": null,
      "id": "f40687a5-1e88-4646-b316-12ffe63eaaca",
      "metadata": {
        "id": "f40687a5-1e88-4646-b316-12ffe63eaaca",
        "outputId": "6e78485f-455f-41ab-b2fe-a279874ad1c2"
      },
      "outputs": [
        {
          "name": "stdout",
          "output_type": "stream",
          "text": [
            "<class 'pandas.core.frame.DataFrame'>\n",
            "RangeIndex: 355 entries, 0 to 354\n",
            "Data columns (total 7 columns):\n",
            " #   Column              Non-Null Count  Dtype  \n",
            "---  ------              --------------  -----  \n",
            " 0   Nombre y apellidos  355 non-null    object \n",
            " 1   Grupo               0 non-null      float64\n",
            " 2   Grupo.1             355 non-null    object \n",
            " 3   Lista               0 non-null      float64\n",
            " 4   Lista.1             355 non-null    object \n",
            " 5   Circunscripción     355 non-null    object \n",
            " 6   Alta                355 non-null    object \n",
            "dtypes: float64(2), object(5)\n",
            "memory usage: 19.5+ KB\n"
          ]
        }
      ],
      "source": [
        "diputados.info()"
      ]
    },
    {
      "cell_type": "code",
      "execution_count": null,
      "id": "e4f9ef0e-61b1-45d7-99ca-830bb13bb1be",
      "metadata": {
        "id": "e4f9ef0e-61b1-45d7-99ca-830bb13bb1be",
        "outputId": "a3f0e025-0dfd-4222-b7a5-57afc24e0bbb"
      },
      "outputs": [
        {
          "name": "stdout",
          "output_type": "stream",
          "text": [
            "<class 'pandas.core.frame.DataFrame'>\n",
            "RangeIndex: 41 entries, 0 to 40\n",
            "Data columns (total 9 columns):\n",
            " #   Column              Non-Null Count  Dtype  \n",
            "---  ------              --------------  -----  \n",
            " 0   Nombre y apellidos  41 non-null     object \n",
            " 1   Grupo               0 non-null      float64\n",
            " 2   Grupo.1             41 non-null     object \n",
            " 3   Lista               0 non-null      float64\n",
            " 4   Lista.1             41 non-null     object \n",
            " 5   Circunscripción     41 non-null     object \n",
            " 6   Alta                41 non-null     object \n",
            " 7   Baja                41 non-null     object \n",
            " 8   Sustituto/a         41 non-null     object \n",
            "dtypes: float64(2), object(7)\n",
            "memory usage: 3.0+ KB\n"
          ]
        }
      ],
      "source": [
        "diputados_baja.info()"
      ]
    },
    {
      "cell_type": "markdown",
      "id": "41c34cc5-04c9-485a-9eba-ac20fada43c2",
      "metadata": {
        "id": "41c34cc5-04c9-485a-9eba-ac20fada43c2"
      },
      "source": [
        "Une ambos conjuntos de datos."
      ]
    },
    {
      "cell_type": "code",
      "execution_count": null,
      "id": "4d959f74-439f-46ef-ac1d-cb4befb0719b",
      "metadata": {
        "id": "4d959f74-439f-46ef-ac1d-cb4befb0719b"
      },
      "outputs": [],
      "source": [
        "diputados_df = pd.concat([diputados, diputados_baja])[[\"Nombre y apellidos\", \"Grupo.1\", \"Lista.1\", \"Circunscripción\", \"Alta\", \"Baja\"]]"
      ]
    },
    {
      "cell_type": "markdown",
      "id": "b0dab11e-47a2-417e-9945-e35ccef397b4",
      "metadata": {
        "id": "b0dab11e-47a2-417e-9945-e35ccef397b4"
      },
      "source": [
        "El nombre aparece en formato \"nombre, apellido1 apellido2\". Para curzar los datos necesitamos únicamente los apellidos."
      ]
    },
    {
      "cell_type": "code",
      "execution_count": null,
      "id": "b6f762e6-09a4-4e63-9c95-5fd20a3a3703",
      "metadata": {
        "id": "b6f762e6-09a4-4e63-9c95-5fd20a3a3703"
      },
      "outputs": [],
      "source": [
        "diputados_df[[\"Apellidos\", \"Nombre\"]] = diputados_df[\"Nombre y apellidos\"].str.split(\", \", expand=True)\n",
        "diputados_df.drop(columns=\"Nombre y apellidos\", inplace=True)"
      ]
    },
    {
      "cell_type": "code",
      "execution_count": null,
      "id": "56eaec09-7595-4a67-b8f5-8e11398acfcd",
      "metadata": {
        "id": "56eaec09-7595-4a67-b8f5-8e11398acfcd",
        "outputId": "6647a585-fe40-4fc4-f8fa-c9aba36f0add"
      },
      "outputs": [
        {
          "name": "stdout",
          "output_type": "stream",
          "text": [
            "<class 'pandas.core.frame.DataFrame'>\n",
            "Int64Index: 396 entries, 0 to 40\n",
            "Data columns (total 7 columns):\n",
            " #   Column           Non-Null Count  Dtype \n",
            "---  ------           --------------  ----- \n",
            " 0   Grupo.1          396 non-null    object\n",
            " 1   Lista.1          396 non-null    object\n",
            " 2   Circunscripción  396 non-null    object\n",
            " 3   Alta             396 non-null    object\n",
            " 4   Baja             41 non-null     object\n",
            " 5   Apellidos        396 non-null    object\n",
            " 6   Nombre           396 non-null    object\n",
            "dtypes: object(7)\n",
            "memory usage: 24.8+ KB\n"
          ]
        }
      ],
      "source": [
        "diputados_df.info()"
      ]
    },
    {
      "cell_type": "markdown",
      "id": "886d1e2d-d996-4915-a802-71c12ccce0b5",
      "metadata": {
        "tags": [],
        "id": "886d1e2d-d996-4915-a802-71c12ccce0b5"
      },
      "source": [
        "### Unión\n",
        "\n",
        "Para unirlos se realiza las siguientes tareas:\n",
        "- Se transofrma todo a mayúsculas.\n",
        "- Se utiliza name2 si no es nulo, en tal caso se utiliza name1.\n",
        "- Se curzan mediante Leftjoin"
      ]
    },
    {
      "cell_type": "code",
      "execution_count": null,
      "id": "f56b45d5-9477-449a-915d-98fd299428b7",
      "metadata": {
        "id": "f56b45d5-9477-449a-915d-98fd299428b7"
      },
      "outputs": [],
      "source": [
        "# Si name2 es nulo, lo sustituimos por name1\n",
        "\n",
        "dataset_df['name2'] = dataset_df['name2'].fillna(dataset_df['name1'])\n",
        "\n",
        "# Mayus\n",
        "dataset_df[\"name2\"] = dataset_df[\"name2\"].str.upper()\n",
        "\n",
        "diputados_df[\"Apellidos\"] = diputados_df[\"Apellidos\"].str.upper()"
      ]
    },
    {
      "cell_type": "code",
      "execution_count": null,
      "id": "efaccb03-9f98-42a7-ad7f-d9bd5b27fcca",
      "metadata": {
        "id": "efaccb03-9f98-42a7-ad7f-d9bd5b27fcca"
      },
      "outputs": [],
      "source": [
        "merged_partidos_name2 = dataset_df.merge(diputados_df, how=\"left\", left_on=\"name2\", right_on=\"Apellidos\")"
      ]
    },
    {
      "cell_type": "code",
      "execution_count": null,
      "id": "85853e64-8a9c-4651-bf76-d3ea4813004d",
      "metadata": {
        "id": "85853e64-8a9c-4651-bf76-d3ea4813004d",
        "outputId": "3ea97f74-9665-4af2-a09b-87c52e14e93b"
      },
      "outputs": [
        {
          "name": "stdout",
          "output_type": "stream",
          "text": [
            "<class 'pandas.core.frame.DataFrame'>\n",
            "Int64Index: 46859 entries, 0 to 46858\n",
            "Data columns (total 15 columns):\n",
            " #   Column           Non-Null Count  Dtype \n",
            "---  ------           --------------  ----- \n",
            " 0   cámara           46859 non-null  object\n",
            " 1   organismo        46859 non-null  object\n",
            " 2   numero           46859 non-null  int64 \n",
            " 3   fecha            46859 non-null  object\n",
            " 4   orden_interv     46859 non-null  int64 \n",
            " 5   name1            46859 non-null  object\n",
            " 6   name2            46859 non-null  object\n",
            " 7   texto            46859 non-null  object\n",
            " 8   Grupo.1          26519 non-null  object\n",
            " 9   Lista.1          26519 non-null  object\n",
            " 10  Circunscripción  26519 non-null  object\n",
            " 11  Alta             26519 non-null  object\n",
            " 12  Baja             1400 non-null   object\n",
            " 13  Apellidos        26519 non-null  object\n",
            " 14  Nombre           26519 non-null  object\n",
            "dtypes: int64(2), object(13)\n",
            "memory usage: 5.7+ MB\n"
          ]
        }
      ],
      "source": [
        "merged_partidos_name2.info()"
      ]
    },
    {
      "cell_type": "markdown",
      "id": "4f9a5bca-9f5d-4a0a-b996-dcb7cc03a518",
      "metadata": {
        "id": "4f9a5bca-9f5d-4a0a-b996-dcb7cc03a518"
      },
      "source": [
        "De las 48000 intervenciones, solo ha podido cruzar unas 26000. Pese a los erroes, el número de itnervenciones es suficiente. La mayoría de los cruces erróneos son de la presidenta del congreso."
      ]
    },
    {
      "cell_type": "code",
      "execution_count": null,
      "id": "2d110663-75e5-477e-a66c-22dd3fcaaf23",
      "metadata": {
        "id": "2d110663-75e5-477e-a66c-22dd3fcaaf23"
      },
      "outputs": [],
      "source": [
        "errores = merged_partidos_name2[merged_partidos_name2[\"Grupo.1\"].isna()]"
      ]
    },
    {
      "cell_type": "code",
      "execution_count": null,
      "id": "3f17c8cb-6fa8-46ba-951b-09c980b367ae",
      "metadata": {
        "id": "3f17c8cb-6fa8-46ba-951b-09c980b367ae",
        "outputId": "d668913d-759e-4d42-be90-d01e5c4a29b3"
      },
      "outputs": [
        {
          "data": {
            "text/plain": [
              "PRESIDENTA              18687\n",
              "CALVIÑO SANTAMARÍA        308\n",
              "BOLAÑOS GARCÍA            140\n",
              "DARIAS SAN SEBASTIÁN      105\n",
              "ESCRIVÁ BELMONTE           95\n",
              "                        ...  \n",
              "LEGARDE URIARTE             1\n",
              "QUEVEDO IBURBE              1\n",
              "GRANDE MARLASKA             1\n",
              "ROMANÍ CANTERA              1\n",
              "ÁNGULO ROMERO               1\n",
              "Name: name2, Length: 229, dtype: int64"
            ]
          },
          "execution_count": 19,
          "metadata": {},
          "output_type": "execute_result"
        }
      ],
      "source": [
        "errores[\"name2\"].value_counts()"
      ]
    },
    {
      "cell_type": "markdown",
      "id": "253ad499-2491-482e-88fc-c98a5ce5a292",
      "metadata": {
        "id": "253ad499-2491-482e-88fc-c98a5ce5a292"
      },
      "source": [
        "## Guardar"
      ]
    },
    {
      "cell_type": "code",
      "execution_count": null,
      "id": "89af2c23-2058-4dbc-adb0-d4e64d76f871",
      "metadata": {
        "id": "89af2c23-2058-4dbc-adb0-d4e64d76f871"
      },
      "outputs": [],
      "source": [
        "merged_partidos_name2.to_csv(\"dataset/dataset_v1_1/dataset_v1_1.csv\")"
      ]
    }
  ],
  "metadata": {
    "kernelspec": {
      "display_name": "Python 3 (ipykernel)",
      "language": "python",
      "name": "python3"
    },
    "language_info": {
      "codemirror_mode": {
        "name": "ipython",
        "version": 3
      },
      "file_extension": ".py",
      "mimetype": "text/x-python",
      "name": "python",
      "nbconvert_exporter": "python",
      "pygments_lexer": "ipython3",
      "version": "3.10.8"
    },
    "colab": {
      "provenance": []
    }
  },
  "nbformat": 4,
  "nbformat_minor": 5
}